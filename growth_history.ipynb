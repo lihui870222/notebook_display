{
 "cells": [
  {
   "cell_type": "code",
   "execution_count": 1,
   "metadata": {
    "collapsed": false
   },
   "outputs": [
    {
     "name": "stderr",
     "output_type": "stream",
     "text": [
      "/u/home/hliastro/yt-x86_64/lib/python2.7/site-packages/matplotlib-1.5.1-py2.7-linux-x86_64.egg/matplotlib/__init__.py:872: UserWarning: axes.color_cycle is deprecated and replaced with axes.prop_cycle; please use the latter.\n",
      "  warnings.warn(self.msg_depr % (key, alt_key))\n"
     ]
    }
   ],
   "source": [
    "import numpy as np\n",
    "import glob\n",
    "import matplotlib.pyplot as plt\n",
    "%matplotlib inline"
   ]
  },
  {
   "cell_type": "markdown",
   "metadata": {},
   "source": [
    "## remove lines from failed global timesteps"
   ]
  },
  {
   "cell_type": "code",
   "execution_count": 2,
   "metadata": {
    "collapsed": false
   },
   "outputs": [],
   "source": [
    "import subprocess\n",
    "output = subprocess.check_output([\"grep -nr 'done with \\| restart' std.10SFE.new\"], shell=True)"
   ]
  },
  {
   "cell_type": "code",
   "execution_count": 3,
   "metadata": {
    "collapsed": false
   },
   "outputs": [],
   "source": [
    "temp = output.split('\\n')\n",
    "start = 0\n",
    "end = 0\n",
    "line_range = []\n",
    "for i in temp:\n",
    "    if 'done with' in i:\n",
    "        end = int(i.split(':')[0])\n",
    "        line_range.append([start, end])\n",
    "        start = int(i.split(':')[0])\n",
    "    elif 'restart' in i:\n",
    "        start = int(i.split(':')[0])"
   ]
  },
  {
   "cell_type": "code",
   "execution_count": 4,
   "metadata": {
    "collapsed": false
   },
   "outputs": [],
   "source": [
    "def select_lines(data, ranges):\n",
    "    d = []\n",
    "    for r in ranges:\n",
    "        d.extend( data[r[0]:r[1]] )\n",
    "    return d"
   ]
  },
  {
   "cell_type": "code",
   "execution_count": 6,
   "metadata": {
    "collapsed": false
   },
   "outputs": [],
   "source": [
    "inp = open('std.10SFE.new').readlines()"
   ]
  },
  {
   "cell_type": "code",
   "execution_count": 7,
   "metadata": {
    "collapsed": false
   },
   "outputs": [],
   "source": [
    "inp = select_lines(inp, line_range)"
   ]
  },
  {
   "cell_type": "markdown",
   "metadata": {},
   "source": [
    "## get data from lines with 'Hui'"
   ]
  },
  {
   "cell_type": "code",
   "execution_count": 24,
   "metadata": {
    "collapsed": false
   },
   "outputs": [
    {
     "name": "stdout",
     "output_type": "stream",
     "text": [
      "\n"
     ]
    }
   ],
   "source": [
    "data = np.zeros([len(inp), 8])\n",
    "for i in range(len(inp)):\n",
    "    l = inp[i]\n",
    "    if 'Hui' in l:\n",
    "        if 'id' in l:\n",
    "            t = l.split('=')\n",
    "            data[i,0] = float(t[1].split(',')[0])\n",
    "            data[i,1] = float(t[2].split(',')[0])\n",
    "            data[i,2] = float(t[3].split(',')[0])\n",
    "            data[i,3] = float(t[4].split(',')[0])\n",
    "            data[i,4] = float(t[5].split(',')[0])\n",
    "            data[i,5] = float(t[6].split(',')[0])\n",
    "            data[i,6] = float(t[7].split(',')[0])\n",
    "            data[i,7] = float(t[8].split(',')[0])\n",
    "#             d1 = int(t[1].split(',')[0])\n",
    "#             d2 = float(t[2].split(',')[0])\n",
    "#             d3 = float(t[3].split(',')[0])\n",
    "#             d4 = float(t[4].split(',')[0])\n",
    "#             data.append([d1,d2,d3,d4])"
   ]
  },
  {
   "cell_type": "markdown",
   "metadata": {},
   "source": [
    "## get cluster particle list"
   ]
  },
  {
   "cell_type": "code",
   "execution_count": 25,
   "metadata": {
    "collapsed": false
   },
   "outputs": [],
   "source": [
    "data = data[data[:,0]!=0]\n",
    "id_list = np.unique(data[:,0])"
   ]
  },
  {
   "cell_type": "code",
   "execution_count": 34,
   "metadata": {
    "collapsed": false
   },
   "outputs": [],
   "source": [
    "data_sorted = []\n",
    "for id in id_list:\n",
    "    data_sorted.append(data[data[:,0]==id])"
   ]
  },
  {
   "cell_type": "markdown",
   "metadata": {},
   "source": [
    "## select those whose mass and age are in reasonable range"
   ]
  },
  {
   "cell_type": "code",
   "execution_count": 35,
   "metadata": {
    "collapsed": false
   },
   "outputs": [],
   "source": [
    "plt.style.use('niceplot')"
   ]
  },
  {
   "cell_type": "code",
   "execution_count": 71,
   "metadata": {
    "collapsed": false
   },
   "outputs": [
    {
     "data": {
      "text/plain": [
       "<matplotlib.text.Text at 0x2b8f6e943c50>"
      ]
     },
     "execution_count": 71,
     "metadata": {},
     "output_type": "execute_result"
    },
    {
     "data": {
      "image/png": "[encoded data removed]",
      "text/plain": [
       "<matplotlib.figure.Figure at 0x2b8f6e831a90>"
      ]
     },
     "metadata": {},
     "output_type": "display_data"
    }
   ],
   "source": [
    "for d in data_sorted:\n",
    "    if np.max(d[:,5])<1.45e7:\n",
    "        continue\n",
    "    if np.min(d[:,5])>1e4:\n",
    "        continue\n",
    "    if d[:,3][-1]<1e4:\n",
    "        continue\n",
    "    #plt.scatter(d[:, 5], d[:,3]/d[:,3][-1],s=0.1)\n",
    "    plt.scatter(d[:, 5], d[:,3],s=0.1)\n",
    "\n",
    "    \n",
    "#plt.xscale('log')\n",
    "#plt.yscale('log')\n",
    "plt.xlim(0,15e6)\n",
    "plt.ylim(0,2e4)\n",
    "plt.xlabel('Age (Myr)')\n",
    "plt.ylabel(r'$M\\;(M_\\odot)$')"
   ]
  },
  {
   "cell_type": "code",
   "execution_count": 73,
   "metadata": {
    "collapsed": false
   },
   "outputs": [
    {
     "data": {
      "text/plain": [
       "<matplotlib.text.Text at 0x2b8f6e8ba050>"
      ]
     },
     "execution_count": 73,
     "metadata": {},
     "output_type": "execute_result"
    },
    {
     "data": {
      "image/png": "[encoded data removed]",
      "text/plain": [
       "<matplotlib.figure.Figure at 0x2b8f6e745a90>"
      ]
     },
     "metadata": {},
     "output_type": "display_data"
    }
   ],
   "source": [
    "for d in data_sorted:\n",
    "    if np.max(d[:,5])<1.45e7:\n",
    "        continue\n",
    "    if np.min(d[:,5])>1e4:\n",
    "        continue\n",
    "    if d[:,3][-1]<1e4:\n",
    "        continue\n",
    "    age = d[:,5]\n",
    "    mass = d[:,3]\n",
    "    plt.plot((age[1:]+age[:-1])/2., mass[1:]-mass[:-1], label='SFR')\n",
    "    plt.plot(age, d[:,1], label='level')\n",
    "    \n",
    "#plt.xscale('log')\n",
    "#plt.yscale('log')\n",
    "plt.xlim(-1e6,15e6)\n",
    "plt.ylim(-0.1,11)\n",
    "plt.legend(loc='lower right')\n",
    "plt.xlabel('Age (Myr)')\n",
    "plt.ylabel(r'$\\rm SFR \\; (M_\\odot/yr)$')"
   ]
  },
  {
   "cell_type": "code",
   "execution_count": 74,
   "metadata": {
    "collapsed": false
   },
   "outputs": [
    {
     "data": {
      "text/plain": [
       "<matplotlib.text.Text at 0x2b8f6d9f31d0>"
      ]
     },
     "execution_count": 74,
     "metadata": {},
     "output_type": "execute_result"
    },
    {
     "data": {
      "image/png": "[encoded data removed]",
      "text/plain": [
       "<matplotlib.figure.Figure at 0x2b8f6e88e110>"
      ]
     },
     "metadata": {},
     "output_type": "display_data"
    }
   ],
   "source": [
    "for d in data_sorted:\n",
    "    if np.max(d[:,5])<1.45e7:\n",
    "        continue\n",
    "    if np.min(d[:,5])>1e4:\n",
    "        continue\n",
    "    if d[:,3][-1]<1e4:\n",
    "        continue\n",
    "    age = d[:,5]\n",
    "    mass = d[:,3]\n",
    "    density = d[:,6]\n",
    "    fH2 = d[:,7]\n",
    "    #plt.plot((age[1:]+age[:-1])/2., mass[1:]-mass[:-1])\n",
    "    plt.plot(age, density)\n",
    "    #plt.plot(age, fH2)\n",
    "    \n",
    "#plt.xscale('log')\n",
    "#plt.yscale('log')\n",
    "plt.xlim(-1e6,15e6)\n",
    "#plt.ylim(-0.1,1.1)\n",
    "plt.legend()\n",
    "plt.xlabel('Age (Myr)')\n",
    "plt.ylabel(r'$n_H\\;(\\rm cm^{-3})$')"
   ]
  },
  {
   "cell_type": "code",
   "execution_count": 75,
   "metadata": {
    "collapsed": true
   },
   "outputs": [],
   "source": [
    "def tau_postpro(t, mass):\n",
    "    dm = mass[1:]-mass[:-1]\n",
    "    t_mid = (t[1:]+t[:-1])/2.\n",
    "    dt = t[1:]-t[:-1]\n",
    "    #dt = 1630.\n",
    "    if np.sum(dm)==0:\n",
    "        return np.nan, np.nan\n",
    "    tau_ave = np.sum(dm*t_mid)/np.sum(dm)/1e6\n",
    "    tau_spread = mass[-1]*mass[-1]/np.sum(dm*dm/dt)/1e6\n",
    "    return tau_ave, tau_spread#/1.772"
   ]
  },
  {
   "cell_type": "code",
   "execution_count": 76,
   "metadata": {
    "collapsed": false
   },
   "outputs": [
    {
     "name": "stdout",
     "output_type": "stream",
     "text": [
      "(1.7071883821349689, 0.70569043196769443)\n"
     ]
    }
   ],
   "source": [
    "for d in data_sorted:\n",
    "    if np.max(d[:,5])<1.45e7:\n",
    "        continue\n",
    "    if np.min(d[:,5])>1e4:\n",
    "        continue\n",
    "    if d[:,3][-1]<1e4:\n",
    "        continue\n",
    "    age = d[:,5]\n",
    "    mass = d[:,3]\n",
    "    density = d[:,6]\n",
    "    fH2 = d[:,7]\n",
    "    print tau_postpro(age, mass)"
   ]
  },
  {
   "cell_type": "code",
   "execution_count": null,
   "metadata": {
    "collapsed": true
   },
   "outputs": [],
   "source": []
  }
 ],
 "metadata": {
  "kernelspec": {
   "display_name": "Python 2",
   "language": "python",
   "name": "python2"
  },
  "language_info": {
   "codemirror_mode": {
    "name": "ipython",
    "version": 2
   },
   "file_extension": ".py",
   "mimetype": "text/x-python",
   "name": "python",
   "nbconvert_exporter": "python",
   "pygments_lexer": "ipython2",
   "version": "2.7.11"
  }
 },
 "nbformat": 4,
 "nbformat_minor": 0
}
